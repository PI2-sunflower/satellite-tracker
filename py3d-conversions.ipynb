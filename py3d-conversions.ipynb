{
 "cells": [
  {
   "cell_type": "markdown",
   "metadata": {},
   "source": [
    "# Testando bibliotecas sgp4 + pymap3d \n",
    "\n",
    "**Links**\n",
    "\n",
    "- https://www.scivision.co/pymap3d/html/index.html\n",
    "- https://github.com/scivision/pymap3d"
   ]
  },
  {
   "cell_type": "code",
   "execution_count": 1,
   "metadata": {},
   "outputs": [],
   "source": [
    "%load_ext autoreload\n",
    "\n",
    "%autoreload 2"
   ]
  },
  {
   "cell_type": "code",
   "execution_count": 2,
   "metadata": {},
   "outputs": [
    {
     "name": "stdout",
     "output_type": "stream",
     "text": [
      "TLE = \n",
      "1 25544U 98067A   18264.87214538 -.00000479 +00000-0 +00000-0 0  9990\n",
      "2 25544 051.6411 256.8919 0004651 185.2142 246.8508 15.53744581133552\n",
      "\n"
     ]
    }
   ],
   "source": [
    "from sgp4.earth_gravity import wgs84\n",
    "from sgp4.io import twoline2rv\n",
    "from datetime import datetime, timedelta\n",
    "from datetime import timezone\n",
    "\n",
    "from tle_getter import get_tle, SATELLITES_IDS\n",
    "\n",
    "iss_tle = get_tle(name='ISS')\n",
    "print('TLE = \\n{}\\n{}\\n'.format(*iss_tle))"
   ]
  },
  {
   "cell_type": "code",
   "execution_count": 3,
   "metadata": {},
   "outputs": [],
   "source": [
    "def propagate_satellite(satellite, at):\n",
    "    date_at = at.year, at.month, at.day, at.hour, at.minute, at.second + (at.microsecond / 1000000.0)\n",
    "    return satellite.propagate(*date_at)"
   ]
  },
  {
   "cell_type": "code",
   "execution_count": 4,
   "metadata": {},
   "outputs": [],
   "source": [
    "satellite = twoline2rv(*iss_tle, wgs84)"
   ]
  },
  {
   "cell_type": "code",
   "execution_count": 5,
   "metadata": {},
   "outputs": [],
   "source": [
    "at = datetime(year=2017, month=9, day=21, hour=1, minute=29, second=17, microsecond=23, tzinfo=timezone.utc)\n",
    "r, v = propagate_satellite(satellite, at)"
   ]
  },
  {
   "cell_type": "code",
   "execution_count": 6,
   "metadata": {},
   "outputs": [],
   "source": [
    "import pymap3d as pm\n",
    "\n",
    "eci = r\n",
    "fga_pos = (-15.989620, -48.044411, 1207)\n",
    "\n",
    "\n",
    "res = pm.eci2aer(eci, *fga_pos, at)\n",
    "\n",
    "az, el, slant_range = res\n",
    "az = az[0]\n",
    "el = el[0]"
   ]
  },
  {
   "cell_type": "code",
   "execution_count": 7,
   "metadata": {},
   "outputs": [
    {
     "name": "stdout",
     "output_type": "stream",
     "text": [
      "point in time = 2017-09-21 01:29:17.000023+00:00\n",
      "position = (-4244.46536805306, 2327.9416877050735, -4754.7619156858445)\n",
      "velocity = (-0.8854028971443356, -7.117731507903258, -2.6939557912289396)\n",
      "fga(azimuth, elevation) = (179.11624401667316, -89.84543681633713)\n",
      "\n"
     ]
    }
   ],
   "source": [
    "print('point in time = {}'.format(at))\n",
    "print('position = {}'.format(r))\n",
    "print('velocity = {}'.format(v))\n",
    "print('fga(azimuth, elevation) = ({}, {})\\n'.format(az, el))"
   ]
  },
  {
   "cell_type": "code",
   "execution_count": 8,
   "metadata": {},
   "outputs": [
    {
     "name": "stdout",
     "output_type": "stream",
     "text": [
      "(42.67, -56.7)\n"
     ]
    }
   ],
   "source": [
    "from tle_getter import get_az_el\n",
    "\n",
    "\n",
    "lat, lng, alt = fga_pos\n",
    "norad_id = 25544\n",
    "\n",
    "print(get_az_el(lat, lng, alt, norad_id=norad_id))"
   ]
  }
 ],
 "metadata": {
  "kernelspec": {
   "display_name": "Python 3",
   "language": "python",
   "name": "python3"
  },
  "language_info": {
   "codemirror_mode": {
    "name": "ipython",
    "version": 3
   },
   "file_extension": ".py",
   "mimetype": "text/x-python",
   "name": "python",
   "nbconvert_exporter": "python",
   "pygments_lexer": "ipython3",
   "version": "3.6.4"
  }
 },
 "nbformat": 4,
 "nbformat_minor": 2
}
