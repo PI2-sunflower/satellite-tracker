{
 "cells": [
  {
   "cell_type": "markdown",
   "metadata": {},
   "source": [
    "# Testando bibliotecas sgp4 + pymap3d \n",
    "\n",
    "**Links**\n",
    "\n",
    "- https://www.scivision.co/pymap3d/html/index.html\n",
    "- https://github.com/scivision/pymap3d"
   ]
  },
  {
   "cell_type": "code",
   "execution_count": 10,
   "metadata": {},
   "outputs": [
    {
     "name": "stdout",
     "output_type": "stream",
     "text": [
      "The autoreload extension is already loaded. To reload it, use:\n",
      "  %reload_ext autoreload\n"
     ]
    }
   ],
   "source": [
    "%load_ext autoreload\n",
    "\n",
    "%autoreload 2"
   ]
  },
  {
   "cell_type": "code",
   "execution_count": 11,
   "metadata": {},
   "outputs": [],
   "source": [
    "from sgp4.earth_gravity import wgs84\n",
    "from sgp4.io import twoline2rv\n",
    "from datetime import datetime, timedelta\n",
    "from datetime import timezone\n",
    "\n",
    "from tle_getter import get_tle, SATELLITES_IDS\n",
    "\n",
    "iss_tle = get_tle(name='ISS')"
   ]
  },
  {
   "cell_type": "code",
   "execution_count": 16,
   "metadata": {},
   "outputs": [],
   "source": [
    "def propagate_satellite(satellite, at):\n",
    "    date_at = at.year, at.month, at.day, at.hour, at.minute, at.second + (at.microsecond / 1000000.0)\n",
    "    return satellite.propagate(*date_at)"
   ]
  },
  {
   "cell_type": "code",
   "execution_count": 13,
   "metadata": {},
   "outputs": [],
   "source": [
    "satellite = twoline2rv(*iss_tle, wgs84)"
   ]
  },
  {
   "cell_type": "code",
   "execution_count": 19,
   "metadata": {},
   "outputs": [
    {
     "name": "stdout",
     "output_type": "stream",
     "text": [
      "position = (-2971.9458295417226, -4140.43841805304, -4485.828318672087)\n",
      "velocity = (3.4854753968182237, -6.006085589596043, 3.2330791835723622)\n"
     ]
    }
   ],
   "source": [
    "at = datetime(year=2017, month=9, day=21, hour=1, minute=29, second=17, microsecond=23, tzinfo=timezone.utc)\n",
    "r, v = propagate_satellite(satellite, at)\n",
    "print('position = {}'.format(r))\n",
    "print('velocity = {}'.format(v))"
   ]
  },
  {
   "cell_type": "code",
   "execution_count": 15,
   "metadata": {},
   "outputs": [
    {
     "name": "stdout",
     "output_type": "stream",
     "text": [
      "res = (array([197.54984381]), array([-89.8504855]), array([6377366.63555306]))\n",
      "(az, el) = ([197.54984381], [-89.8504855])\n"
     ]
    }
   ],
   "source": [
    "import pymap3d as pm\n",
    "\n",
    "\n",
    "eci = r\n",
    "fga_pos = (-15.989620, -48.044411, 1207)\n",
    "\n",
    "\n",
    "res = pm.eci2aer(eci, *fga_pos, at)\n",
    "print('res = {}'.format(res))\n",
    "\n",
    "az, el, slant_range = res\n",
    "print('(az, el) = ({}, {})'.format(az, el))"
   ]
  }
 ],
 "metadata": {
  "kernelspec": {
   "display_name": "Python 3",
   "language": "python",
   "name": "python3"
  },
  "language_info": {
   "codemirror_mode": {
    "name": "ipython",
    "version": 3
   },
   "file_extension": ".py",
   "mimetype": "text/x-python",
   "name": "python",
   "nbconvert_exporter": "python",
   "pygments_lexer": "ipython3",
   "version": "3.6.4"
  }
 },
 "nbformat": 4,
 "nbformat_minor": 2
}
