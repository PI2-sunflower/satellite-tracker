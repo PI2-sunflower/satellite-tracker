{
 "cells": [
  {
   "cell_type": "markdown",
   "metadata": {},
   "source": [
    "# Testando API n2yo\n",
    "\n",
    "**Links**\n",
    "\n",
    "- https://www.n2yo.com/api/"
   ]
  },
  {
   "cell_type": "code",
   "execution_count": 1,
   "metadata": {},
   "outputs": [],
   "source": [
    "%load_ext autoreload\n",
    "\n",
    "%autoreload 2"
   ]
  },
  {
   "cell_type": "markdown",
   "metadata": {},
   "source": [
    "# N2YO"
   ]
  },
  {
   "cell_type": "code",
   "execution_count": 2,
   "metadata": {},
   "outputs": [],
   "source": [
    "from tle_getter import get_az_el\n",
    "import datetime\n",
    "from datetime import timezone\n",
    "from pyorbital.orbital import Orbital\n",
    "\n",
    "\n",
    "fga_pos = (344.01038, -48.044411, 1.207)\n",
    "lat, lng, alt = fga_pos\n",
    "norad_id = 25544\n",
    "\n",
    "az, el, timestamp = get_az_el(lat, lng, alt, norad_id=norad_id)\n",
    "at = datetime.datetime.fromtimestamp(timestamp, tz=timezone.utc)"
   ]
  },
  {
   "cell_type": "markdown",
   "metadata": {},
   "source": [
    "# PYORBITAL"
   ]
  },
  {
   "cell_type": "markdown",
   "metadata": {},
   "source": [
    "# Comparando n2yo x pyorbital"
   ]
  },
  {
   "cell_type": "code",
   "execution_count": 3,
   "metadata": {},
   "outputs": [
    {
     "name": "stdout",
     "output_type": "stream",
     "text": [
      "Comparing n2yo x pyorbital\n",
      "azimuth absolute difference: 41.350707818382915\n",
      "elevation absolute difference: 14.257593726438008\n"
     ]
    }
   ],
   "source": [
    "def compare():\n",
    "    n2_az, n2_el, timestamp = get_az_el(lat, lng, alt, norad_id=norad_id)\n",
    "    at = datetime.datetime.fromtimestamp(timestamp, tz=timezone.utc)\n",
    "    \n",
    "    orb = Orbital('ISS')\n",
    "    py_az, py_el = orb.get_observer_look(at, *fga_pos)\n",
    "    \n",
    "    print('Comparing n2yo x pyorbital')\n",
    "    print('azimuth absolute difference: {}'.format(abs(n2_az - py_az)))\n",
    "    print('elevation absolute difference: {}'.format(abs(n2_el - py_el)))\n",
    "    \n",
    "compare()"
   ]
  }
 ],
 "metadata": {
  "kernelspec": {
   "display_name": "Python 3",
   "language": "python",
   "name": "python3"
  },
  "language_info": {
   "codemirror_mode": {
    "name": "ipython",
    "version": 3
   },
   "file_extension": ".py",
   "mimetype": "text/x-python",
   "name": "python",
   "nbconvert_exporter": "python",
   "pygments_lexer": "ipython3",
   "version": "3.6.4"
  }
 },
 "nbformat": 4,
 "nbformat_minor": 2
}
