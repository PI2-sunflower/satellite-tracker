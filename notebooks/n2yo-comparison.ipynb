{
 "cells": [
  {
   "cell_type": "markdown",
   "metadata": {},
   "source": [
    "# Testando API n2yo\n",
    "\n",
    "**Links**\n",
    "\n",
    "- https://www.n2yo.com/api/"
   ]
  },
  {
   "cell_type": "code",
   "execution_count": 1,
   "metadata": {},
   "outputs": [],
   "source": [
    "%load_ext autoreload\n",
    "\n",
    "%autoreload 2"
   ]
  },
  {
   "cell_type": "markdown",
   "metadata": {},
   "source": [
    "# N2YO"
   ]
  },
  {
   "cell_type": "code",
   "execution_count": 2,
   "metadata": {},
   "outputs": [],
   "source": [
    "import datetime\n",
    "from datetime import timezone\n",
    "\n",
    "import pandas as pd\n",
    "\n",
    "from tracker.satellite import Satellite\n",
    "from tracker.tle_getter import get_az_el, get_tle"
   ]
  },
  {
   "cell_type": "code",
   "execution_count": 3,
   "metadata": {
    "scrolled": true
   },
   "outputs": [
    {
     "name": "stdout",
     "output_type": "stream",
     "text": [
      "n2yo_az = [91.07, 91.14, 91.22, 91.29, 91.37]...\n",
      "n2yo_el = [-64.01, -64.02, -64.03, -64.04, -64.06]...\n",
      "n2yo_dates = [datetime.datetime(2018, 11, 17, 0, 50, 59, tzinfo=datetime.timezone.utc), datetime.datetime(2018, 11, 17, 0, 51, tzinfo=datetime.timezone.utc), datetime.datetime(2018, 11, 17, 0, 51, 1, tzinfo=datetime.timezone.utc), datetime.datetime(2018, 11, 17, 0, 51, 2, tzinfo=datetime.timezone.utc), datetime.datetime(2018, 11, 17, 0, 51, 3, tzinfo=datetime.timezone.utc)]...\n"
     ]
    }
   ],
   "source": [
    "OBS_LAT = -15.989620\n",
    "OBS_LON = -48.044411\n",
    "OBS_ALT = 500\n",
    "\n",
    "norad_id = 25544\n",
    "\n",
    "N_POINTS = 1000\n",
    "n2yo_az, n2yo_el, n2yo_dates = get_az_el(OBS_LAT, OBS_LON, OBS_ALT, norad_id=norad_id, seconds=N_POINTS)\n",
    "print('n2yo_az = {}...'.format(n2yo_az[:5]))\n",
    "print('n2yo_el = {}...'.format(n2yo_el[:5]))\n",
    "print('n2yo_dates = {}...'.format(n2yo_dates[:5]))"
   ]
  },
  {
   "cell_type": "code",
   "execution_count": 4,
   "metadata": {},
   "outputs": [
    {
     "name": "stdout",
     "output_type": "stream",
     "text": [
      "iss_tle = \n",
      "('1 25544U 98067A   18320.95340301  .00001775  00000-0  34251-4 0  9998', '2 25544  51.6414 337.4379 0005125  55.0744  13.6082 15.53976211142273')\n"
     ]
    }
   ],
   "source": [
    "iss_tle = get_tle(norad_id=25544)\n",
    "print('iss_tle = \\n{}'.format(iss_tle))\n",
    "iss = Satellite(*iss_tle)\n",
    "\n",
    "az_error = []\n",
    "el_error = []\n",
    "\n",
    "for i in range(len(n2yo_az)):\n",
    "    az, el = iss.get_observer_azimuth_elevation(OBS_LAT, OBS_LON, OBS_ALT, date=n2yo_dates[i])\n",
    "    \n",
    "    azimuth_error = abs(az - n2yo_az[i])\n",
    "    elevation_error = abs(el - n2yo_el[i])\n",
    "    \n",
    "    az_error.append(azimuth_error)\n",
    "    el_error.append(elevation_error)"
   ]
  },
  {
   "cell_type": "markdown",
   "metadata": {},
   "source": [
    "# Comparando o erro do sgp4 com o N2YO"
   ]
  },
  {
   "cell_type": "code",
   "execution_count": 5,
   "metadata": {
    "scrolled": false
   },
   "outputs": [
    {
     "data": {
      "text/html": [
       "<div>\n",
       "<style scoped>\n",
       "    .dataframe tbody tr th:only-of-type {\n",
       "        vertical-align: middle;\n",
       "    }\n",
       "\n",
       "    .dataframe tbody tr th {\n",
       "        vertical-align: top;\n",
       "    }\n",
       "\n",
       "    .dataframe thead th {\n",
       "        text-align: right;\n",
       "    }\n",
       "</style>\n",
       "<table border=\"1\" class=\"dataframe\">\n",
       "  <thead>\n",
       "    <tr style=\"text-align: right;\">\n",
       "      <th></th>\n",
       "      <th>Azimuth absolute error</th>\n",
       "      <th>Elevation absolute error</th>\n",
       "    </tr>\n",
       "  </thead>\n",
       "  <tbody>\n",
       "    <tr>\n",
       "      <th>0</th>\n",
       "      <td>0.078915</td>\n",
       "      <td>0.018367</td>\n",
       "    </tr>\n",
       "    <tr>\n",
       "      <th>1</th>\n",
       "      <td>0.074446</td>\n",
       "      <td>0.015817</td>\n",
       "    </tr>\n",
       "    <tr>\n",
       "      <th>2</th>\n",
       "      <td>0.079928</td>\n",
       "      <td>0.013294</td>\n",
       "    </tr>\n",
       "    <tr>\n",
       "      <th>3</th>\n",
       "      <td>0.075356</td>\n",
       "      <td>0.010796</td>\n",
       "    </tr>\n",
       "    <tr>\n",
       "      <th>4</th>\n",
       "      <td>0.080732</td>\n",
       "      <td>0.018324</td>\n",
       "    </tr>\n",
       "  </tbody>\n",
       "</table>\n",
       "</div>"
      ],
      "text/plain": [
       "   Azimuth absolute error  Elevation absolute error\n",
       "0                0.078915                  0.018367\n",
       "1                0.074446                  0.015817\n",
       "2                0.079928                  0.013294\n",
       "3                0.075356                  0.010796\n",
       "4                0.080732                  0.018324"
      ]
     },
     "metadata": {},
     "output_type": "display_data"
    },
    {
     "data": {
      "text/html": [
       "<div>\n",
       "<style scoped>\n",
       "    .dataframe tbody tr th:only-of-type {\n",
       "        vertical-align: middle;\n",
       "    }\n",
       "\n",
       "    .dataframe tbody tr th {\n",
       "        vertical-align: top;\n",
       "    }\n",
       "\n",
       "    .dataframe thead th {\n",
       "        text-align: right;\n",
       "    }\n",
       "</style>\n",
       "<table border=\"1\" class=\"dataframe\">\n",
       "  <thead>\n",
       "    <tr style=\"text-align: right;\">\n",
       "      <th></th>\n",
       "      <th>Azimuth absolute error</th>\n",
       "      <th>Elevation absolute error</th>\n",
       "    </tr>\n",
       "  </thead>\n",
       "  <tbody>\n",
       "    <tr>\n",
       "      <th>count</th>\n",
       "      <td>1000.000000</td>\n",
       "      <td>1000.000000</td>\n",
       "    </tr>\n",
       "    <tr>\n",
       "      <th>mean</th>\n",
       "      <td>0.084323</td>\n",
       "      <td>0.008624</td>\n",
       "    </tr>\n",
       "    <tr>\n",
       "      <th>std</th>\n",
       "      <td>0.006666</td>\n",
       "      <td>0.005076</td>\n",
       "    </tr>\n",
       "    <tr>\n",
       "      <th>min</th>\n",
       "      <td>0.066607</td>\n",
       "      <td>0.000003</td>\n",
       "    </tr>\n",
       "    <tr>\n",
       "      <th>25%</th>\n",
       "      <td>0.079389</td>\n",
       "      <td>0.004524</td>\n",
       "    </tr>\n",
       "    <tr>\n",
       "      <th>50%</th>\n",
       "      <td>0.085475</td>\n",
       "      <td>0.008415</td>\n",
       "    </tr>\n",
       "    <tr>\n",
       "      <th>75%</th>\n",
       "      <td>0.089442</td>\n",
       "      <td>0.012311</td>\n",
       "    </tr>\n",
       "    <tr>\n",
       "      <th>max</th>\n",
       "      <td>0.096037</td>\n",
       "      <td>0.021301</td>\n",
       "    </tr>\n",
       "  </tbody>\n",
       "</table>\n",
       "</div>"
      ],
      "text/plain": [
       "       Azimuth absolute error  Elevation absolute error\n",
       "count             1000.000000               1000.000000\n",
       "mean                 0.084323                  0.008624\n",
       "std                  0.006666                  0.005076\n",
       "min                  0.066607                  0.000003\n",
       "25%                  0.079389                  0.004524\n",
       "50%                  0.085475                  0.008415\n",
       "75%                  0.089442                  0.012311\n",
       "max                  0.096037                  0.021301"
      ]
     },
     "metadata": {},
     "output_type": "display_data"
    }
   ],
   "source": [
    "df_error = pd.DataFrame({'Azimuth absolute error': az_error, 'Elevation absolute error': el_error})\n",
    "display(df_error.head())\n",
    "display(df_error.describe())"
   ]
  }
 ],
 "metadata": {
  "kernelspec": {
   "display_name": "Python 3",
   "language": "python",
   "name": "python3"
  },
  "language_info": {
   "codemirror_mode": {
    "name": "ipython",
    "version": 3
   },
   "file_extension": ".py",
   "mimetype": "text/x-python",
   "name": "python",
   "nbconvert_exporter": "python",
   "pygments_lexer": "ipython3",
   "version": "3.6.4"
  }
 },
 "nbformat": 4,
 "nbformat_minor": 2
}
