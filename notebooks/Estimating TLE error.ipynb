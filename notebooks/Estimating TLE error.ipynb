{
 "cells": [
  {
   "cell_type": "code",
   "execution_count": 1,
   "metadata": {},
   "outputs": [],
   "source": [
    "%load_ext autoreload\n",
    "\n",
    "%autoreload 2"
   ]
  },
  {
   "cell_type": "code",
   "execution_count": 2,
   "metadata": {},
   "outputs": [],
   "source": [
    "from operator import attrgetter\n",
    "\n",
    "import matplotlib.pyplot as plt\n",
    "import numpy as np\n",
    "import pandas as pd\n",
    "\n",
    "from tracker.satellite import Satellite\n",
    "from tracker.tle import TLE"
   ]
  },
  {
   "cell_type": "code",
   "execution_count": 3,
   "metadata": {},
   "outputs": [],
   "source": [
    "zarya_tle_archive = None\n",
    "archive_path = 'tle_files/zarya_2017-2018_tles.txt'\n",
    "\n",
    "with open(archive_path, 'r') as f_archive:\n",
    "    zarya_tle_archive = f_archive.read()\n",
    "    \n",
    "tle_lines = zarya_tle_archive.split('\\n')[:-1]\n",
    "tles_file = []\n",
    "\n",
    "for i in range(0, len(tle_lines), 2):\n",
    "    line1, line2 = tle_lines[i:i + 2]\n",
    "    tle = TLE(line1, line2)\n",
    "    tles_file.append(tle)\n",
    "    \n",
    "tles_file.sort(key=attrgetter('epoch'))\n",
    "\n",
    "tles = [tles_file[0]]\n",
    "for i in range(1, len(tles_file)):\n",
    "    if tles_file[i].epoch != tles_file[i - 1].epoch:\n",
    "        tles.append(tles_file[i])"
   ]
  },
  {
   "cell_type": "code",
   "execution_count": 4,
   "metadata": {},
   "outputs": [],
   "source": [
    "def degrees_error(deg1, deg2):\n",
    "    err = abs(deg1 - deg2)\n",
    "    if err > 180.0:\n",
    "        err = 360.0 - err\n",
    "    return err\n",
    "\n",
    "def two_tle_error(tle1, tle2):\n",
    "    OBS_LAT = -15.989620\n",
    "    OBS_LON = -48.044411\n",
    "    OBS_ALT = 500 # meters\n",
    "    \n",
    "    sat1 = Satellite(*tle1.tle)\n",
    "    sat2 = Satellite(*tle2.tle)\n",
    "    \n",
    "    epoch1 = tle1.epoch\n",
    "    epoch2 = tle2.epoch\n",
    "    \n",
    "    az1, el1 = sat1.get_observer_azimuth_elevation(OBS_LAT, OBS_LON, OBS_ALT, date=epoch2)\n",
    "    az2, el2 = sat2.get_observer_azimuth_elevation(OBS_LAT, OBS_LON, OBS_ALT, date=epoch2)\n",
    "    \n",
    "    return degrees_error(az1, az2), degrees_error(el1, el2), epoch2 - epoch1"
   ]
  },
  {
   "cell_type": "code",
   "execution_count": 5,
   "metadata": {},
   "outputs": [],
   "source": [
    "errors = [two_tle_error(tles[i - 1], tles[i]) for i in range(1, len(tles))]\n",
    "az_errors = np.array([err[0] for err in errors])\n",
    "el_errors = np.array([err[1] for err in errors])\n",
    "date_delta_hours = np.array([err[2].total_seconds() / 3600.0 for err in errors])"
   ]
  },
  {
   "cell_type": "code",
   "execution_count": 6,
   "metadata": {
    "scrolled": true
   },
   "outputs": [
    {
     "data": {
      "text/html": [
       "<div>\n",
       "<style scoped>\n",
       "    .dataframe tbody tr th:only-of-type {\n",
       "        vertical-align: middle;\n",
       "    }\n",
       "\n",
       "    .dataframe tbody tr th {\n",
       "        vertical-align: top;\n",
       "    }\n",
       "\n",
       "    .dataframe thead th {\n",
       "        text-align: right;\n",
       "    }\n",
       "</style>\n",
       "<table border=\"1\" class=\"dataframe\">\n",
       "  <thead>\n",
       "    <tr style=\"text-align: right;\">\n",
       "      <th></th>\n",
       "      <th>Azimuth error (degrees)</th>\n",
       "      <th>Elevation error (degrees)</th>\n",
       "      <th>Date delta (hours)</th>\n",
       "    </tr>\n",
       "  </thead>\n",
       "  <tbody>\n",
       "    <tr>\n",
       "      <th>0</th>\n",
       "      <td>0.000226</td>\n",
       "      <td>0.000076</td>\n",
       "      <td>1.484166</td>\n",
       "    </tr>\n",
       "    <tr>\n",
       "      <th>1</th>\n",
       "      <td>0.001001</td>\n",
       "      <td>0.000265</td>\n",
       "      <td>9.791784</td>\n",
       "    </tr>\n",
       "    <tr>\n",
       "      <th>2</th>\n",
       "      <td>0.000639</td>\n",
       "      <td>0.000515</td>\n",
       "      <td>3.198929</td>\n",
       "    </tr>\n",
       "    <tr>\n",
       "      <th>3</th>\n",
       "      <td>0.003873</td>\n",
       "      <td>0.000846</td>\n",
       "      <td>7.614045</td>\n",
       "    </tr>\n",
       "    <tr>\n",
       "      <th>4</th>\n",
       "      <td>0.000733</td>\n",
       "      <td>0.000231</td>\n",
       "      <td>6.544630</td>\n",
       "    </tr>\n",
       "  </tbody>\n",
       "</table>\n",
       "</div>"
      ],
      "text/plain": [
       "   Azimuth error (degrees)  Elevation error (degrees)  Date delta (hours)\n",
       "0                 0.000226                   0.000076            1.484166\n",
       "1                 0.001001                   0.000265            9.791784\n",
       "2                 0.000639                   0.000515            3.198929\n",
       "3                 0.003873                   0.000846            7.614045\n",
       "4                 0.000733                   0.000231            6.544630"
      ]
     },
     "metadata": {},
     "output_type": "display_data"
    }
   ],
   "source": [
    "error_table = pd.DataFrame(\n",
    "    {'Azimuth error (degrees)': az_errors,\n",
    "     'Elevation error (degrees)': el_errors,\n",
    "     'Date delta (hours)': date_delta_hours})\n",
    "\n",
    "display(error_table.head())"
   ]
  },
  {
   "cell_type": "markdown",
   "metadata": {},
   "source": [
    "# Estatísticas dos erros e tempo de diferença entre TLE consecutivos"
   ]
  },
  {
   "cell_type": "code",
   "execution_count": 7,
   "metadata": {
    "scrolled": true
   },
   "outputs": [
    {
     "data": {
      "text/html": [
       "<div>\n",
       "<style scoped>\n",
       "    .dataframe tbody tr th:only-of-type {\n",
       "        vertical-align: middle;\n",
       "    }\n",
       "\n",
       "    .dataframe tbody tr th {\n",
       "        vertical-align: top;\n",
       "    }\n",
       "\n",
       "    .dataframe thead th {\n",
       "        text-align: right;\n",
       "    }\n",
       "</style>\n",
       "<table border=\"1\" class=\"dataframe\">\n",
       "  <thead>\n",
       "    <tr style=\"text-align: right;\">\n",
       "      <th></th>\n",
       "      <th>Azimuth error (degrees)</th>\n",
       "      <th>Elevation error (degrees)</th>\n",
       "      <th>Date delta (hours)</th>\n",
       "    </tr>\n",
       "  </thead>\n",
       "  <tbody>\n",
       "    <tr>\n",
       "      <th>count</th>\n",
       "      <td>2.384000e+03</td>\n",
       "      <td>2.384000e+03</td>\n",
       "      <td>2384.000000</td>\n",
       "    </tr>\n",
       "    <tr>\n",
       "      <th>mean</th>\n",
       "      <td>6.630041e-03</td>\n",
       "      <td>3.651522e-03</td>\n",
       "      <td>6.642676</td>\n",
       "    </tr>\n",
       "    <tr>\n",
       "      <th>std</th>\n",
       "      <td>4.510786e-02</td>\n",
       "      <td>2.319331e-02</td>\n",
       "      <td>5.688412</td>\n",
       "    </tr>\n",
       "    <tr>\n",
       "      <th>min</th>\n",
       "      <td>4.711621e-07</td>\n",
       "      <td>7.977932e-08</td>\n",
       "      <td>0.048717</td>\n",
       "    </tr>\n",
       "    <tr>\n",
       "      <th>25%</th>\n",
       "      <td>2.841798e-04</td>\n",
       "      <td>1.733753e-04</td>\n",
       "      <td>3.039320</td>\n",
       "    </tr>\n",
       "    <tr>\n",
       "      <th>50%</th>\n",
       "      <td>1.087056e-03</td>\n",
       "      <td>6.093880e-04</td>\n",
       "      <td>5.016516</td>\n",
       "    </tr>\n",
       "    <tr>\n",
       "      <th>75%</th>\n",
       "      <td>3.391928e-03</td>\n",
       "      <td>1.747791e-03</td>\n",
       "      <td>7.864274</td>\n",
       "    </tr>\n",
       "    <tr>\n",
       "      <th>max</th>\n",
       "      <td>1.332285e+00</td>\n",
       "      <td>5.327182e-01</td>\n",
       "      <td>52.952656</td>\n",
       "    </tr>\n",
       "  </tbody>\n",
       "</table>\n",
       "</div>"
      ],
      "text/plain": [
       "       Azimuth error (degrees)  Elevation error (degrees)  Date delta (hours)\n",
       "count             2.384000e+03               2.384000e+03         2384.000000\n",
       "mean              6.630041e-03               3.651522e-03            6.642676\n",
       "std               4.510786e-02               2.319331e-02            5.688412\n",
       "min               4.711621e-07               7.977932e-08            0.048717\n",
       "25%               2.841798e-04               1.733753e-04            3.039320\n",
       "50%               1.087056e-03               6.093880e-04            5.016516\n",
       "75%               3.391928e-03               1.747791e-03            7.864274\n",
       "max               1.332285e+00               5.327182e-01           52.952656"
      ]
     },
     "execution_count": 7,
     "metadata": {},
     "output_type": "execute_result"
    }
   ],
   "source": [
    "error_table.describe()"
   ]
  },
  {
   "cell_type": "markdown",
   "metadata": {},
   "source": [
    "# Plotando os erros"
   ]
  },
  {
   "cell_type": "code",
   "execution_count": 8,
   "metadata": {},
   "outputs": [],
   "source": [
    "def plot_arr(arr, title, xlabel='Error'):\n",
    "    fig, ax = plt.subplots(1, 1, dpi=100)\n",
    "    plt.hist(arr, alpha = 0.5, lw=1, color= 'b', edgecolor='k')\n",
    "    plt.ticklabel_format(style='sci', axis='x', scilimits=(0,0))\n",
    "    plt.title(title)\n",
    "    plt.ylabel('Number of ocorrencies')\n",
    "    plt.xlabel(xlabel)\n",
    "    plt.show()"
   ]
  },
  {
   "cell_type": "code",
   "execution_count": 9,
   "metadata": {
    "scrolled": true
   },
   "outputs": [
    {
     "data": {
      "image/png": "[encoded data removed]",
      "text/plain": [
       "<Figure size 600x400 with 1 Axes>"
      ]
     },
     "metadata": {
      "needs_background": "light"
     },
     "output_type": "display_data"
    }
   ],
   "source": [
    "plot_arr(az_errors, 'Azimuth error')"
   ]
  },
  {
   "cell_type": "code",
   "execution_count": 10,
   "metadata": {
    "scrolled": true
   },
   "outputs": [
    {
     "data": {
      "image/png": "[encoded data removed]",
      "text/plain": [
       "<Figure size 600x400 with 1 Axes>"
      ]
     },
     "metadata": {
      "needs_background": "light"
     },
     "output_type": "display_data"
    }
   ],
   "source": [
    "plot_arr(el_errors, 'Elevation error')"
   ]
  },
  {
   "cell_type": "code",
   "execution_count": 11,
   "metadata": {},
   "outputs": [
    {
     "data": {
      "image/png": "[encoded data removed]",
      "text/plain": [
       "<Figure size 600x400 with 1 Axes>"
      ]
     },
     "metadata": {
      "needs_background": "light"
     },
     "output_type": "display_data"
    }
   ],
   "source": [
    "plot_arr(date_delta_hours, 'Epoch difference (in hours) between consecutive chronological TLEs', 'Time delta')"
   ]
  },
  {
   "cell_type": "markdown",
   "metadata": {},
   "source": [
    "# Calculando erro do TLE em relação a atrasos de TLE\n",
    "\n",
    "Por exemplo, se estamos considerando um atraso de 3 TLES, então definimos step=3. Caso estejamos interessados num atraso de 15 TLES, então definimos step=15. O erro que estamos interessados é a média dos erros absolutos dos parâmetros azimute e elevação."
   ]
  },
  {
   "cell_type": "code",
   "execution_count": 71,
   "metadata": {},
   "outputs": [],
   "source": [
    "def find_delayed_pairs(tles, step):\n",
    "    az = []\n",
    "    el = []\n",
    "    error_count = 0\n",
    "    for i in range(step, len(tles)):\n",
    "        j = i - step\n",
    "        tle1 = tles[i]\n",
    "        tle2 = tles[j]\n",
    "        errors = two_tle_error(tle2, tle1)\n",
    "        time_delta = errors[2].total_seconds()\n",
    "        az.append(errors[0])\n",
    "        el.append(errors[1])\n",
    "\n",
    "        \n",
    "        \n",
    "        debug = errors[0] > 0.5 or errors[1] > 0.25\n",
    "        \n",
    "        if debug:\n",
    "            #print('Big error azimuth={}, timedelta={}h, step={}\\nTLE1 = {}\\nTLE2 = {}\\n'.\n",
    "                  #format(errors[0], time_delta / 3600.0, step, tle2.tle, tle1.tle))\n",
    "            error_count += 1\n",
    "        \n",
    "    if error_count > 0:\n",
    "            print('Step = {}'.format(step))\n",
    "            print('Trust percentage = {:.2f}%\\n'.format(100 - (error_count * 100.0 / (len(tles) - step))))\n",
    "            \n",
    "    assert len(az) == len(el)            \n",
    "    return az, el"
   ]
  },
  {
   "cell_type": "code",
   "execution_count": 72,
   "metadata": {
    "scrolled": false
   },
   "outputs": [
    {
     "name": "stdout",
     "output_type": "stream",
     "text": [
      "Step = 1\n",
      "Trust percentage = 99.66%\n",
      "\n",
      "Step = 5\n",
      "Trust percentage = 96.39%\n",
      "\n",
      "Step = 10\n",
      "Trust percentage = 89.89%\n",
      "\n",
      "Step = 20\n",
      "Trust percentage = 76.32%\n",
      "\n"
     ]
    },
    {
     "data": {
      "text/html": [
       "<div>\n",
       "<style scoped>\n",
       "    .dataframe tbody tr th:only-of-type {\n",
       "        vertical-align: middle;\n",
       "    }\n",
       "\n",
       "    .dataframe tbody tr th {\n",
       "        vertical-align: top;\n",
       "    }\n",
       "\n",
       "    .dataframe thead th {\n",
       "        text-align: right;\n",
       "    }\n",
       "</style>\n",
       "<table border=\"1\" class=\"dataframe\">\n",
       "  <thead>\n",
       "    <tr style=\"text-align: right;\">\n",
       "      <th></th>\n",
       "      <th>Média</th>\n",
       "      <th>Desvio</th>\n",
       "      <th>Min</th>\n",
       "      <th>Max</th>\n",
       "    </tr>\n",
       "  </thead>\n",
       "  <tbody>\n",
       "    <tr>\n",
       "      <th>Erro absoluto azimute (atraso TLE=1)</th>\n",
       "      <td>0.006630</td>\n",
       "      <td>0.045098</td>\n",
       "      <td>4.711621e-07</td>\n",
       "      <td>1.332285</td>\n",
       "    </tr>\n",
       "    <tr>\n",
       "      <th>Erro absoluto elevação (atraso TLE=1)</th>\n",
       "      <td>0.003652</td>\n",
       "      <td>0.023188</td>\n",
       "      <td>7.977932e-08</td>\n",
       "      <td>0.532718</td>\n",
       "    </tr>\n",
       "    <tr>\n",
       "      <th>Erro absoluto azimute (atraso TLE=5)</th>\n",
       "      <td>0.073809</td>\n",
       "      <td>0.841014</td>\n",
       "      <td>1.051637e-06</td>\n",
       "      <td>36.321273</td>\n",
       "    </tr>\n",
       "    <tr>\n",
       "      <th>Erro absoluto elevação (atraso TLE=5)</th>\n",
       "      <td>0.034663</td>\n",
       "      <td>0.183456</td>\n",
       "      <td>3.714125e-06</td>\n",
       "      <td>4.934663</td>\n",
       "    </tr>\n",
       "    <tr>\n",
       "      <th>Erro absoluto azimute (atraso TLE=10)</th>\n",
       "      <td>0.247526</td>\n",
       "      <td>2.768740</td>\n",
       "      <td>7.121997e-06</td>\n",
       "      <td>127.878937</td>\n",
       "    </tr>\n",
       "    <tr>\n",
       "      <th>Erro absoluto elevação (atraso TLE=10)</th>\n",
       "      <td>0.121756</td>\n",
       "      <td>0.919533</td>\n",
       "      <td>4.787525e-06</td>\n",
       "      <td>37.818818</td>\n",
       "    </tr>\n",
       "    <tr>\n",
       "      <th>Erro absoluto azimute (atraso TLE=20)</th>\n",
       "      <td>0.738540</td>\n",
       "      <td>4.421782</td>\n",
       "      <td>9.365807e-06</td>\n",
       "      <td>169.970111</td>\n",
       "    </tr>\n",
       "    <tr>\n",
       "      <th>Erro absoluto elevação (atraso TLE=20)</th>\n",
       "      <td>0.382402</td>\n",
       "      <td>1.557602</td>\n",
       "      <td>3.777066e-06</td>\n",
       "      <td>31.280350</td>\n",
       "    </tr>\n",
       "  </tbody>\n",
       "</table>\n",
       "</div>"
      ],
      "text/plain": [
       "                                           Média    Desvio           Min  \\\n",
       "Erro absoluto azimute (atraso TLE=1)    0.006630  0.045098  4.711621e-07   \n",
       "Erro absoluto elevação (atraso TLE=1)   0.003652  0.023188  7.977932e-08   \n",
       "Erro absoluto azimute (atraso TLE=5)    0.073809  0.841014  1.051637e-06   \n",
       "Erro absoluto elevação (atraso TLE=5)   0.034663  0.183456  3.714125e-06   \n",
       "Erro absoluto azimute (atraso TLE=10)   0.247526  2.768740  7.121997e-06   \n",
       "Erro absoluto elevação (atraso TLE=10)  0.121756  0.919533  4.787525e-06   \n",
       "Erro absoluto azimute (atraso TLE=20)   0.738540  4.421782  9.365807e-06   \n",
       "Erro absoluto elevação (atraso TLE=20)  0.382402  1.557602  3.777066e-06   \n",
       "\n",
       "                                               Max  \n",
       "Erro absoluto azimute (atraso TLE=1)      1.332285  \n",
       "Erro absoluto elevação (atraso TLE=1)     0.532718  \n",
       "Erro absoluto azimute (atraso TLE=5)     36.321273  \n",
       "Erro absoluto elevação (atraso TLE=5)     4.934663  \n",
       "Erro absoluto azimute (atraso TLE=10)   127.878937  \n",
       "Erro absoluto elevação (atraso TLE=10)   37.818818  \n",
       "Erro absoluto azimute (atraso TLE=20)   169.970111  \n",
       "Erro absoluto elevação (atraso TLE=20)   31.280350  "
      ]
     },
     "metadata": {},
     "output_type": "display_data"
    }
   ],
   "source": [
    "data = dict()\n",
    "\n",
    "mean_std = lambda x: (np.mean(x), np.std(x), np.min(x), np.max(x))\n",
    "\n",
    "steps = [1, 5, 10, 20]\n",
    "\n",
    "for i in steps:\n",
    "    az, el = find_delayed_pairs(tles, i)\n",
    "    data['Erro absoluto azimute (atraso TLE={})'.format(i)] = mean_std(az)\n",
    "    data['Erro absoluto elevação (atraso TLE={})'.format(i)] = mean_std(el)\n",
    "\n",
    "df = pd.DataFrame(data, index=['Média', 'Desvio', 'Min', 'Max']).transpose()\n",
    "display(df)"
   ]
  },
  {
   "cell_type": "code",
   "execution_count": 62,
   "metadata": {},
   "outputs": [
    {
     "name": "stdout",
     "output_type": "stream",
     "text": [
      "TLE1 = ('1 25544U 98067A   17093.89997377 -.00374146 +00000-0 -59469-2 0  9991', '2 25544 051.6388 048.5881 0008452 007.5935 049.0372 15.53922235050204')\n",
      "TLE2 = ('1 25544U 98067A   17098.86053830 +.00003442 +00000-0 +59411-4 0  9995', '2 25544 051.6434 023.8590 0006670 038.3011 068.5407 15.54042428050973')\n",
      "\n",
      "OBS_LAT = -15.98962\n",
      "OBS_LON = -48.044411\n",
      "OBS_ALT = 500\n",
      "\n",
      "date = 2017-04-08 20:39:10.509120+00:00\n",
      "\n",
      "azimuth1 = 350.5168011481939\n",
      "elevation1 = -29.870727668914974\n",
      "azimuth2 = 26.838073868268403\n",
      "elevation2 = -34.8053907017635\n",
      "\n",
      "error_az = 323.6787272799255\n",
      "error_el = 4.934663032848526\n",
      "\n",
      "epoch1 = 2017-04-03 21:35:57.733728+00:00\n",
      "epoch2 = 2017-04-08 20:39:10.509120+00:00\n",
      "\n"
     ]
    },
    {
     "data": {
      "text/plain": [
       "(350.5168011481939,\n",
       " -29.870727668914974,\n",
       " datetime.datetime(2017, 4, 8, 20, 39, 10, 509120, tzinfo=datetime.timezone.utc))"
      ]
     },
     "execution_count": 62,
     "metadata": {},
     "output_type": "execute_result"
    }
   ],
   "source": [
    "def see_erro(tle1, tle2):\n",
    "    OBS_LAT = -15.989620\n",
    "    OBS_LON = -48.044411\n",
    "    OBS_ALT = 500 # meters\n",
    "\n",
    "    sat1 = Satellite(*tle1.tle)\n",
    "    sat2 = Satellite(*tle2.tle)\n",
    "    \n",
    "    az1, el1 = sat1.get_observer_azimuth_elevation(OBS_LAT, OBS_LON, OBS_ALT, date=tle2.epoch)\n",
    "    az2, el2 = sat2.get_observer_azimuth_elevation(OBS_LAT, OBS_LON, OBS_ALT, date=tle2.epoch)\n",
    "    \n",
    "    print('OBS_LAT = {}'.format(OBS_LAT))\n",
    "    print('OBS_LON = {}'.format(OBS_LON))\n",
    "    print('OBS_ALT = {}\\n'.format(OBS_ALT))\n",
    "    print('date = {}\\n'.format(tle2.epoch))\n",
    "    print('azimuth1 = {}'.format(az1))\n",
    "    print('elevation1 = {}'.format(el1))\n",
    "    print('azimuth2 = {}'.format(az2))\n",
    "    print('elevation2 = {}\\n'.format(el2))\n",
    "    print('error_az = {}'.format(abs(az1 - az2)))\n",
    "    print('error_el = {}\\n'.format(abs(el1 - el2)))\n",
    "    print('epoch1 = {}'.format(tle1.epoch))\n",
    "    print('epoch2 = {}\\n'.format(tle2.epoch))\n",
    "    return az1, el1, tle2.epoch\n",
    "\n",
    "TLE1 = TLE('1 25544U 98067A   17093.89997377 -.00374146 +00000-0 -59469-2 0  9991', '2 25544 051.6388 048.5881 0008452 007.5935 049.0372 15.53922235050204')\n",
    "TLE2 = TLE('1 25544U 98067A   17098.86053830 +.00003442 +00000-0 +59411-4 0  9995', '2 25544 051.6434 023.8590 0006670 038.3011 068.5407 15.54042428050973')\n",
    "\n",
    "print('TLE1 = {}'.format(TLE1.tle))\n",
    "print('TLE2 = {}\\n'.format(TLE2.tle))\n",
    "\n",
    "see_erro(TLE1, TLE2)"
   ]
  }
 ],
 "metadata": {
  "kernelspec": {
   "display_name": "Python 3",
   "language": "python",
   "name": "python3"
  },
  "language_info": {
   "codemirror_mode": {
    "name": "ipython",
    "version": 3
   },
   "file_extension": ".py",
   "mimetype": "text/x-python",
   "name": "python",
   "nbconvert_exporter": "python",
   "pygments_lexer": "ipython3",
   "version": "3.6.4"
  }
 },
 "nbformat": 4,
 "nbformat_minor": 2
}
