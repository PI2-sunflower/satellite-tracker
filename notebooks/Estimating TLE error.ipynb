{
 "cells": [
  {
   "cell_type": "code",
   "execution_count": 1,
   "metadata": {},
   "outputs": [],
   "source": [
    "%load_ext autoreload\n",
    "\n",
    "%autoreload 2"
   ]
  },
  {
   "cell_type": "code",
   "execution_count": 2,
   "metadata": {},
   "outputs": [],
   "source": [
    "from operator import attrgetter\n",
    "\n",
    "import matplotlib.pyplot as plt\n",
    "import numpy as np\n",
    "import pandas as pd\n",
    "\n",
    "from tracker.satellite import Satellite\n",
    "from tracker.tle import TLE"
   ]
  },
  {
   "cell_type": "code",
   "execution_count": 3,
   "metadata": {},
   "outputs": [],
   "source": [
    "zarya_tle_archive = None\n",
    "archive_path = 'tle_files/zarya_2001-2018_tles.txt'\n",
    "\n",
    "with open(archive_path, 'r') as f_archive:\n",
    "    zarya_tle_archive = f_archive.read()\n",
    "    \n",
    "tle_lines = zarya_tle_archive.split('\\n')[:-1]\n",
    "tles = []\n",
    "\n",
    "for i in range(0, len(tle_lines), 2):\n",
    "    line1, line2 = tle_lines[i:i + 2]\n",
    "    tle = TLE(line1, line2)\n",
    "    tles.append(tle)"
   ]
  },
  {
   "cell_type": "code",
   "execution_count": 4,
   "metadata": {},
   "outputs": [
    {
     "data": {
      "text/plain": [
       "tracker.tle.TLE"
      ]
     },
     "execution_count": 4,
     "metadata": {},
     "output_type": "execute_result"
    }
   ],
   "source": [
    "tles.sort(key=attrgetter('epoch'))\n",
    "type(tles[0])"
   ]
  },
  {
   "cell_type": "code",
   "execution_count": 5,
   "metadata": {},
   "outputs": [],
   "source": [
    "def two_tle_error(tle1, tle2):\n",
    "    OBS_LAT = -15.989620\n",
    "    OBS_LON = -48.044411\n",
    "    OBS_ALT = 500 # meters\n",
    "    \n",
    "    sat1 = Satellite(*tle1.tle)\n",
    "    sat2 = Satellite(*tle2.tle)\n",
    "    \n",
    "    epoch1 = tle1.epoch\n",
    "    epoch2 = tle2.epoch\n",
    "    \n",
    "    az1, el1 = sat1.get_observer_azimuth_elevation(OBS_LAT, OBS_LON, OBS_ALT, date=epoch2)\n",
    "    az2, el2 = sat2.get_observer_azimuth_elevation(OBS_LAT, OBS_LON, OBS_ALT, date=epoch2)\n",
    "    \n",
    "    return abs(az1 - az2), abs(el1 - el2), epoch2 - epoch1"
   ]
  },
  {
   "cell_type": "code",
   "execution_count": 6,
   "metadata": {},
   "outputs": [
    {
     "name": "stdout",
     "output_type": "stream",
     "text": [
      "('1 25544U 98067A   17001.10660880  .00001073  00000-0  23630-4 0  9997', '2 25544  51.6423 151.2131 0007045  39.8224 315.5565 15.53964187 35761')\n"
     ]
    }
   ],
   "source": [
    "tle1 = tles[0]\n",
    "tle2 = tles[1]\n",
    "\n",
    "print(tle1.tle)"
   ]
  },
  {
   "cell_type": "code",
   "execution_count": 7,
   "metadata": {},
   "outputs": [],
   "source": [
    "errors = [two_tle_error(tles[i - 1], tles[i]) for i in range(1, len(tles))]\n",
    "az_errors = np.array([err[0] for err in errors])\n",
    "el_errors = np.array([err[1] for err in errors])\n",
    "date_delta_hours = np.array([err[2].total_seconds() / 3600.0 for err in errors])"
   ]
  },
  {
   "cell_type": "code",
   "execution_count": 8,
   "metadata": {
    "scrolled": true
   },
   "outputs": [
    {
     "data": {
      "text/html": [
       "<div>\n",
       "<style scoped>\n",
       "    .dataframe tbody tr th:only-of-type {\n",
       "        vertical-align: middle;\n",
       "    }\n",
       "\n",
       "    .dataframe tbody tr th {\n",
       "        vertical-align: top;\n",
       "    }\n",
       "\n",
       "    .dataframe thead th {\n",
       "        text-align: right;\n",
       "    }\n",
       "</style>\n",
       "<table border=\"1\" class=\"dataframe\">\n",
       "  <thead>\n",
       "    <tr style=\"text-align: right;\">\n",
       "      <th></th>\n",
       "      <th>Azimuth error (degrees)</th>\n",
       "      <th>Elevation error (degrees)</th>\n",
       "      <th>Date delta (hours)</th>\n",
       "    </tr>\n",
       "  </thead>\n",
       "  <tbody>\n",
       "    <tr>\n",
       "      <th>0</th>\n",
       "      <td>0.000226</td>\n",
       "      <td>0.000076</td>\n",
       "      <td>1.484166</td>\n",
       "    </tr>\n",
       "    <tr>\n",
       "      <th>1</th>\n",
       "      <td>0.001001</td>\n",
       "      <td>0.000265</td>\n",
       "      <td>9.791784</td>\n",
       "    </tr>\n",
       "    <tr>\n",
       "      <th>2</th>\n",
       "      <td>0.000000</td>\n",
       "      <td>0.000000</td>\n",
       "      <td>0.000000</td>\n",
       "    </tr>\n",
       "    <tr>\n",
       "      <th>3</th>\n",
       "      <td>0.000639</td>\n",
       "      <td>0.000515</td>\n",
       "      <td>3.198929</td>\n",
       "    </tr>\n",
       "    <tr>\n",
       "      <th>4</th>\n",
       "      <td>0.003873</td>\n",
       "      <td>0.000846</td>\n",
       "      <td>7.614045</td>\n",
       "    </tr>\n",
       "  </tbody>\n",
       "</table>\n",
       "</div>"
      ],
      "text/plain": [
       "   Azimuth error (degrees)  Elevation error (degrees)  Date delta (hours)\n",
       "0                 0.000226                   0.000076            1.484166\n",
       "1                 0.001001                   0.000265            9.791784\n",
       "2                 0.000000                   0.000000            0.000000\n",
       "3                 0.000639                   0.000515            3.198929\n",
       "4                 0.003873                   0.000846            7.614045"
      ]
     },
     "metadata": {},
     "output_type": "display_data"
    }
   ],
   "source": [
    "error_table = pd.DataFrame(\n",
    "    {'Azimuth error (degrees)': az_errors,\n",
    "     'Elevation error (degrees)': el_errors,\n",
    "     'Date delta (hours)': date_delta_hours})\n",
    "\n",
    "display(error_table.head())"
   ]
  },
  {
   "cell_type": "markdown",
   "metadata": {},
   "source": [
    "# Estatísticas dos erros e tempo de diferença entre TLE consecutivos"
   ]
  },
  {
   "cell_type": "code",
   "execution_count": 9,
   "metadata": {
    "scrolled": true
   },
   "outputs": [
    {
     "data": {
      "text/html": [
       "<div>\n",
       "<style scoped>\n",
       "    .dataframe tbody tr th:only-of-type {\n",
       "        vertical-align: middle;\n",
       "    }\n",
       "\n",
       "    .dataframe tbody tr th {\n",
       "        vertical-align: top;\n",
       "    }\n",
       "\n",
       "    .dataframe thead th {\n",
       "        text-align: right;\n",
       "    }\n",
       "</style>\n",
       "<table border=\"1\" class=\"dataframe\">\n",
       "  <thead>\n",
       "    <tr style=\"text-align: right;\">\n",
       "      <th></th>\n",
       "      <th>Azimuth error (degrees)</th>\n",
       "      <th>Elevation error (degrees)</th>\n",
       "      <th>Date delta (hours)</th>\n",
       "    </tr>\n",
       "  </thead>\n",
       "  <tbody>\n",
       "    <tr>\n",
       "      <th>count</th>\n",
       "      <td>2868.000000</td>\n",
       "      <td>2868.000000</td>\n",
       "      <td>2868.000000</td>\n",
       "    </tr>\n",
       "    <tr>\n",
       "      <th>mean</th>\n",
       "      <td>0.005727</td>\n",
       "      <td>0.003113</td>\n",
       "      <td>5.521666</td>\n",
       "    </tr>\n",
       "    <tr>\n",
       "      <th>std</th>\n",
       "      <td>0.042440</td>\n",
       "      <td>0.021275</td>\n",
       "      <td>5.752167</td>\n",
       "    </tr>\n",
       "    <tr>\n",
       "      <th>min</th>\n",
       "      <td>0.000000</td>\n",
       "      <td>0.000000</td>\n",
       "      <td>0.000000</td>\n",
       "    </tr>\n",
       "    <tr>\n",
       "      <th>25%</th>\n",
       "      <td>0.000088</td>\n",
       "      <td>0.000065</td>\n",
       "      <td>1.581811</td>\n",
       "    </tr>\n",
       "    <tr>\n",
       "      <th>50%</th>\n",
       "      <td>0.000752</td>\n",
       "      <td>0.000405</td>\n",
       "      <td>4.474303</td>\n",
       "    </tr>\n",
       "    <tr>\n",
       "      <th>75%</th>\n",
       "      <td>0.002614</td>\n",
       "      <td>0.001471</td>\n",
       "      <td>7.279420</td>\n",
       "    </tr>\n",
       "    <tr>\n",
       "      <th>max</th>\n",
       "      <td>1.332285</td>\n",
       "      <td>0.532718</td>\n",
       "      <td>52.952656</td>\n",
       "    </tr>\n",
       "  </tbody>\n",
       "</table>\n",
       "</div>"
      ],
      "text/plain": [
       "       Azimuth error (degrees)  Elevation error (degrees)  Date delta (hours)\n",
       "count              2868.000000                2868.000000         2868.000000\n",
       "mean                  0.005727                   0.003113            5.521666\n",
       "std                   0.042440                   0.021275            5.752167\n",
       "min                   0.000000                   0.000000            0.000000\n",
       "25%                   0.000088                   0.000065            1.581811\n",
       "50%                   0.000752                   0.000405            4.474303\n",
       "75%                   0.002614                   0.001471            7.279420\n",
       "max                   1.332285                   0.532718           52.952656"
      ]
     },
     "execution_count": 9,
     "metadata": {},
     "output_type": "execute_result"
    }
   ],
   "source": [
    "error_table.describe()"
   ]
  },
  {
   "cell_type": "markdown",
   "metadata": {},
   "source": [
    "# Plotando os erros"
   ]
  },
  {
   "cell_type": "code",
   "execution_count": 10,
   "metadata": {},
   "outputs": [],
   "source": [
    "def plot_arr(arr, title, xlabel='Error'):\n",
    "    fig, ax = plt.subplots(1, 1, dpi=100)\n",
    "    plt.hist(arr, alpha = 0.5, lw=1, color= 'b', edgecolor='k')\n",
    "    plt.ticklabel_format(style='sci', axis='x', scilimits=(0,0))\n",
    "    plt.title(title)\n",
    "    plt.ylabel('Number of ocorrencies')\n",
    "    plt.xlabel(xlabel)\n",
    "    plt.show()"
   ]
  },
  {
   "cell_type": "code",
   "execution_count": 11,
   "metadata": {
    "scrolled": true
   },
   "outputs": [
    {
     "data": {
      "image/png": "[encoded data removed]",
      "text/plain": [
       "<Figure size 600x400 with 1 Axes>"
      ]
     },
     "metadata": {
      "needs_background": "light"
     },
     "output_type": "display_data"
    }
   ],
   "source": [
    "plot_arr(az_errors, 'Azimuth error')"
   ]
  },
  {
   "cell_type": "code",
   "execution_count": 12,
   "metadata": {
    "scrolled": true
   },
   "outputs": [
    {
     "data": {
      "image/png": "[encoded data removed]",
      "text/plain": [
       "<Figure size 600x400 with 1 Axes>"
      ]
     },
     "metadata": {
      "needs_background": "light"
     },
     "output_type": "display_data"
    }
   ],
   "source": [
    "plot_arr(el_errors, 'Elevation error')"
   ]
  },
  {
   "cell_type": "code",
   "execution_count": 13,
   "metadata": {},
   "outputs": [
    {
     "data": {
      "image/png": "[encoded data removed]",
      "text/plain": [
       "<Figure size 600x400 with 1 Axes>"
      ]
     },
     "metadata": {
      "needs_background": "light"
     },
     "output_type": "display_data"
    }
   ],
   "source": [
    "plot_arr(date_delta_hours, 'Epoch difference (in hours) between consecutive chronological TLEs', 'Time delta')"
   ]
  },
  {
   "cell_type": "markdown",
   "metadata": {},
   "source": [
    "# Calculando erro do TLE em relação a atrasos de TLE\n",
    "\n",
    "Por exemplo, se estamos considerando um atraso de 3 TLES, então definimos step=3. Caso estejamos interessados num atraso de 15 TLES, então definimos step=15. O erro que estamos interessados é a média dos erros absolutos dos parâmetros azimute e elevação."
   ]
  },
  {
   "cell_type": "code",
   "execution_count": 14,
   "metadata": {},
   "outputs": [],
   "source": [
    "def find_delayed_pairs(tles, step):\n",
    "    az = []\n",
    "    el = []\n",
    "    for i in range(step, len(tles)):\n",
    "        j = i - step\n",
    "        tle1 = tles[i]\n",
    "        tle2 = tles[j]\n",
    "        errors = two_tle_error(tle1, tle2)\n",
    "        time_delta = errors[2].total_seconds()\n",
    "        az.append(errors[0])\n",
    "        el.append(errors[1])\n",
    "        \n",
    "    \n",
    "    assert len(az) == len(el)            \n",
    "    return az, el"
   ]
  },
  {
   "cell_type": "code",
   "execution_count": 15,
   "metadata": {},
   "outputs": [
    {
     "data": {
      "text/html": [
       "<div>\n",
       "<style scoped>\n",
       "    .dataframe tbody tr th:only-of-type {\n",
       "        vertical-align: middle;\n",
       "    }\n",
       "\n",
       "    .dataframe tbody tr th {\n",
       "        vertical-align: top;\n",
       "    }\n",
       "\n",
       "    .dataframe thead th {\n",
       "        text-align: right;\n",
       "    }\n",
       "</style>\n",
       "<table border=\"1\" class=\"dataframe\">\n",
       "  <thead>\n",
       "    <tr style=\"text-align: right;\">\n",
       "      <th></th>\n",
       "      <th>Azimuth errors (step=1)</th>\n",
       "      <th>Elevation errors (step=1)</th>\n",
       "      <th>Azimuth errors (step=5)</th>\n",
       "      <th>Elevation errors (step=5)</th>\n",
       "      <th>Azimuth errors (step=15)</th>\n",
       "      <th>Elevation errors (step=15)</th>\n",
       "      <th>Azimuth errors (step=50)</th>\n",
       "      <th>Elevation errors (step=50)</th>\n",
       "    </tr>\n",
       "  </thead>\n",
       "  <tbody>\n",
       "    <tr>\n",
       "      <th>mean</th>\n",
       "      <td>0.002624</td>\n",
       "      <td>0.001470</td>\n",
       "      <td>0.029502</td>\n",
       "      <td>0.018355</td>\n",
       "      <td>0.720717</td>\n",
       "      <td>0.148959</td>\n",
       "      <td>7.640852</td>\n",
       "      <td>1.292093</td>\n",
       "    </tr>\n",
       "    <tr>\n",
       "      <th>std</th>\n",
       "      <td>0.017478</td>\n",
       "      <td>0.011765</td>\n",
       "      <td>0.396749</td>\n",
       "      <td>0.292796</td>\n",
       "      <td>13.080121</td>\n",
       "      <td>1.027914</td>\n",
       "      <td>43.528157</td>\n",
       "      <td>4.408910</td>\n",
       "    </tr>\n",
       "  </tbody>\n",
       "</table>\n",
       "</div>"
      ],
      "text/plain": [
       "      Azimuth errors (step=1)  Elevation errors (step=1)  \\\n",
       "mean                 0.002624                   0.001470   \n",
       "std                  0.017478                   0.011765   \n",
       "\n",
       "      Azimuth errors (step=5)  Elevation errors (step=5)  \\\n",
       "mean                 0.029502                   0.018355   \n",
       "std                  0.396749                   0.292796   \n",
       "\n",
       "      Azimuth errors (step=15)  Elevation errors (step=15)  \\\n",
       "mean                  0.720717                    0.148959   \n",
       "std                  13.080121                    1.027914   \n",
       "\n",
       "      Azimuth errors (step=50)  Elevation errors (step=50)  \n",
       "mean                  7.640852                    1.292093  \n",
       "std                  43.528157                    4.408910  "
      ]
     },
     "metadata": {},
     "output_type": "display_data"
    }
   ],
   "source": [
    "data = dict()\n",
    "\n",
    "mean_std = lambda x: (np.mean(x), np.std(x))\n",
    "\n",
    "steps = [1, 5, 15, 50]\n",
    "\n",
    "for i in steps:\n",
    "    az, el = find_delayed_pairs(tles, i)\n",
    "    data['Azimuth errors (step={})'.format(i)] = mean_std(az)\n",
    "    data['Elevation errors (step={})'.format(i)] = mean_std(el)\n",
    "\n",
    "df = pd.DataFrame(data, index=['mean', 'std'])\n",
    "display(df.head())"
   ]
  }
 ],
 "metadata": {
  "kernelspec": {
   "display_name": "Python 3",
   "language": "python",
   "name": "python3"
  },
  "language_info": {
   "codemirror_mode": {
    "name": "ipython",
    "version": 3
   },
   "file_extension": ".py",
   "mimetype": "text/x-python",
   "name": "python",
   "nbconvert_exporter": "python",
   "pygments_lexer": "ipython3",
   "version": "3.6.4"
  }
 },
 "nbformat": 4,
 "nbformat_minor": 2
}
