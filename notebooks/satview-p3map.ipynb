{
 "cells": [
  {
   "cell_type": "markdown",
   "metadata": {},
   "source": [
    "# Testando site SATVIEW x sgp4 + py3d\n",
    "\n",
    "**Links**\n",
    "\n",
    "- http://www.satview.org/\n",
    "- https://www.n2yo.com/satellite/?s=25544"
   ]
  },
  {
   "cell_type": "markdown",
   "metadata": {},
   "source": [
    "# Unidades\n",
    "\n",
    "Ângulos: em graus\n",
    "\n",
    "Distância: metros (m)\n",
    "\n",
    "Tempo: UTC"
   ]
  },
  {
   "cell_type": "code",
   "execution_count": 1,
   "metadata": {},
   "outputs": [],
   "source": [
    "%load_ext autoreload\n",
    "\n",
    "%autoreload 2"
   ]
  },
  {
   "cell_type": "code",
   "execution_count": 9,
   "metadata": {},
   "outputs": [],
   "source": [
    "from datetime import datetime, timezone"
   ]
  },
  {
   "cell_type": "markdown",
   "metadata": {},
   "source": [
    "## Constants"
   ]
  },
  {
   "cell_type": "code",
   "execution_count": 3,
   "metadata": {},
   "outputs": [],
   "source": [
    "OBS_LAT = -15.989620\n",
    "OBS_LON = -48.044411\n",
    "OBS_ALT = 500 # meters\n",
    "\n",
    "ISS_TLE = ('1 25544U 98067A   18264.87214538 -.00000479 +00000-0 +00000-0 0 9990',\n",
    "           '2 25544 051.6411 256.8919 0004651 185.2142 246.8508 15.53744581133552')"
   ]
  },
  {
   "cell_type": "markdown",
   "metadata": {},
   "source": [
    "# SATVIEW x py3d"
   ]
  },
  {
   "cell_type": "code",
   "execution_count": 4,
   "metadata": {},
   "outputs": [
    {
     "name": "stdout",
     "output_type": "stream",
     "text": [
      "iss_position = (768350.0713588104, 6538760.196343955, -1632694.711713458)\n"
     ]
    }
   ],
   "source": [
    "from sgp4.earth_gravity import wgs84\n",
    "from sgp4.io import twoline2rv\n",
    "import pymap3d as pm\n",
    "\n",
    "\n",
    "def propagate_satellite(satellite, at):\n",
    "    date_at = at.year, at.month, at.day, at.hour, at.minute, at.second + (at.microsecond / 1000000.0)\n",
    "    return satellite.propagate(*date_at)\n",
    "\n",
    "satellite = twoline2rv(ISS_TLE[0], ISS_TLE[1], wgs84)\n",
    "utc_satview = datetime(year=2018, month=9, day=22, hour=20, minute=37, second=30, tzinfo=timezone.utc)\n",
    "\n",
    "iss_position, v = propagate_satellite(satellite, utc_satview)\n",
    "iss_position = (iss_position[0] * 1000.0, iss_position[1] * 1000.0, iss_position[2] * 1000.0)\n",
    "\n",
    "print('iss_position = {}'.format(iss_position))"
   ]
  },
  {
   "cell_type": "code",
   "execution_count": 5,
   "metadata": {},
   "outputs": [
    {
     "name": "stdout",
     "output_type": "stream",
     "text": [
      "iss_norm = 6783.173207216974\n",
      "iss_norm - 400 = 6383.173207216974\n"
     ]
    }
   ],
   "source": [
    "import numpy as np\n",
    "\n",
    "\n",
    "iss_norm = np.linalg.norm(iss_position)\n",
    "print('iss_norm = {}'.format(iss_norm / 1000.0))\n",
    "print('iss_norm - 400 = {}'.format((iss_norm / 1000.0) - 400))"
   ]
  },
  {
   "cell_type": "code",
   "execution_count": 6,
   "metadata": {},
   "outputs": [
    {
     "name": "stdout",
     "output_type": "stream",
     "text": [
      "iss_aer = (array([180.60183682]), array([-74.51896759]), array([12717620.45332964]))\n"
     ]
    }
   ],
   "source": [
    "eci_iss = iss_position\n",
    "\n",
    "iss_aer = pm.eci2aer(eci_iss, OBS_LAT, OBS_LON, OBS_ALT, utc_satview)\n",
    "\n",
    "print('iss_aer = {}'.format(iss_aer))\n",
    "iss_az = iss_aer[0][0]\n",
    "iss_el = iss_aer[1][0]"
   ]
  },
  {
   "cell_type": "code",
   "execution_count": 7,
   "metadata": {},
   "outputs": [],
   "source": [
    "pm.eci2aer??"
   ]
  },
  {
   "cell_type": "code",
   "execution_count": 8,
   "metadata": {},
   "outputs": [
    {
     "name": "stdout",
     "output_type": "stream",
     "text": [
      "Py3d\n",
      "azimuth = 180.60183682285862\n",
      "elevation = -74.51896759111999\n",
      "local_time = 2018-09-22 20:37:30+00:00\n"
     ]
    }
   ],
   "source": [
    "print('Py3d')\n",
    "print('azimuth = {}'.format(iss_az))\n",
    "print('elevation = {}'.format(iss_el))\n",
    "print('local_time = {}'.format(utc_satview))"
   ]
  },
  {
   "cell_type": "markdown",
   "metadata": {},
   "source": [
    "# Conclusão "
   ]
  }
 ],
 "metadata": {
  "kernelspec": {
   "display_name": "Python 3",
   "language": "python",
   "name": "python3"
  },
  "language_info": {
   "codemirror_mode": {
    "name": "ipython",
    "version": 3
   },
   "file_extension": ".py",
   "mimetype": "text/x-python",
   "name": "python",
   "nbconvert_exporter": "python",
   "pygments_lexer": "ipython3",
   "version": "3.6.4"
  }
 },
 "nbformat": 4,
 "nbformat_minor": 2
}
