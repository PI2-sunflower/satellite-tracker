{
 "cells": [
  {
   "cell_type": "markdown",
   "metadata": {},
   "source": [
    "# Testando site SATVIEW\n",
    "\n",
    "**Links**\n",
    "\n",
    "- http://www.satview.org/\n",
    "- https://www.n2yo.com/satellite/?s=25544"
   ]
  },
  {
   "cell_type": "code",
   "execution_count": 1,
   "metadata": {},
   "outputs": [],
   "source": [
    "%load_ext autoreload\n",
    "\n",
    "%autoreload 2"
   ]
  },
  {
   "cell_type": "code",
   "execution_count": 2,
   "metadata": {},
   "outputs": [],
   "source": [
    "from datetime import datetime, timezone\n",
    "from pyorbital.orbital import Orbital"
   ]
  },
  {
   "cell_type": "markdown",
   "metadata": {},
   "source": [
    "## Constants"
   ]
  },
  {
   "cell_type": "code",
   "execution_count": 3,
   "metadata": {},
   "outputs": [],
   "source": [
    "OBS_LAT = -15.989620\n",
    "OBS_LONG = -48.044411\n",
    "OBS_ALT = 500 # meters\n",
    "\n",
    "ISS_TLE = ('1 25544U 98067A   18264.87214538 -.00000479 +00000-0 +00000-0 0 9990',\n",
    "           '2 25544 051.6411 256.8919 0004651 185.2142 246.8508 15.53744581133552')"
   ]
  },
  {
   "cell_type": "markdown",
   "metadata": {},
   "source": [
    "# SATVIEW x pyorbital"
   ]
  },
  {
   "cell_type": "code",
   "execution_count": 4,
   "metadata": {},
   "outputs": [
    {
     "name": "stdout",
     "output_type": "stream",
     "text": [
      "Object `py_iss.get_observer_look` not found.\n"
     ]
    }
   ],
   "source": [
    "py_iss.get_observer_look??"
   ]
  },
  {
   "cell_type": "code",
   "execution_count": 5,
   "metadata": {},
   "outputs": [
    {
     "name": "stdout",
     "output_type": "stream",
     "text": [
      "PYORBITAL\n",
      "azimuth = 43.68627725395746\n",
      "elevation = -57.35392379833168\n",
      "local_time = 2018-09-22 20:14:24.859595\n"
     ]
    }
   ],
   "source": [
    "py_iss = Orbital('ISS', line1=ISS_TLE[0], line2=ISS_TLE[1])\n",
    "\n",
    "utc_now = datetime.utcnow()\n",
    "py_az, py_el = py_iss.get_observer_look(utc_now, OBS_LONG, OBS_LAT, OBS_ALT / 1000)\n",
    "\n",
    "print('PYORBITAL')\n",
    "print('azimuth = {}'.format(py_az))\n",
    "print('elevation = {}'.format(py_el))\n",
    "print('local_time = {}'.format(utc_now))"
   ]
  },
  {
   "cell_type": "markdown",
   "metadata": {},
   "source": [
    "# Conclusão \n",
    "\n",
    "Os resultados estão bastante próximos.\n",
    "\n",
    "Diferença no azimuth: aproximademente 0.5 graus\n",
    "Diferença no elevation: aproximdamente 0.5 graus"
   ]
  }
 ],
 "metadata": {
  "kernelspec": {
   "display_name": "Python 3",
   "language": "python",
   "name": "python3"
  },
  "language_info": {
   "codemirror_mode": {
    "name": "ipython",
    "version": 3
   },
   "file_extension": ".py",
   "mimetype": "text/x-python",
   "name": "python",
   "nbconvert_exporter": "python",
   "pygments_lexer": "ipython3",
   "version": "3.6.4"
  }
 },
 "nbformat": 4,
 "nbformat_minor": 2
}
