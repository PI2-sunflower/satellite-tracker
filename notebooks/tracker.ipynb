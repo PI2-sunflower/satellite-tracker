{
 "cells": [
  {
   "cell_type": "code",
   "execution_count": 35,
   "metadata": {},
   "outputs": [
    {
     "name": "stdout",
     "output_type": "stream",
     "text": [
      "The autoreload extension is already loaded. To reload it, use:\n",
      "  %reload_ext autoreload\n"
     ]
    }
   ],
   "source": [
    "%load_ext autoreload\n",
    "\n",
    "%autoreload 2"
   ]
  },
  {
   "cell_type": "code",
   "execution_count": 36,
   "metadata": {
    "scrolled": true
   },
   "outputs": [
    {
     "name": "stdout",
     "output_type": "stream",
     "text": [
      "0\n",
      "None\n",
      "(-287.8650715193106, 4282.5461118204175, -5307.671955555925)\n",
      "(-7.588330462059805, 0.4328057614894663, 0.7624069730122075)\n"
     ]
    }
   ],
   "source": [
    "from sgp4.earth_gravity import wgs84, wgs72\n",
    "from sgp4.io import twoline2rv\n",
    "\n",
    "from tle_getter import get_tle, SATELLITES_IDS\n",
    "\n",
    "line1, line2 = get_tle(SATELLITES_IDS['ISS'])\n",
    "\n",
    "satellite = twoline2rv(line1, line2, wgs84)\n",
    "position, velocity = satellite.propagate(2000, 6, 29, 12, 50, 19)\n",
    "\n",
    "print(satellite.error)    # nonzero on error\n",
    "\n",
    "print(satellite.error_message)\n",
    "\n",
    "print(position)\n",
    "\n",
    "print(velocity)"
   ]
  },
  {
   "cell_type": "code",
   "execution_count": 37,
   "metadata": {
    "scrolled": true
   },
   "outputs": [
    {
     "name": "stdout",
     "output_type": "stream",
     "text": [
      "[(4142.966820270251, 1527.753644441626, 5139.2177346757535), (4142.966820270251, 1527.753644441626, 5139.2177346757535), (4142.966820270251, 1527.753644441626, 5139.2177346757535), (4142.966820270251, 1527.753644441626, 5139.2177346757535), (4142.966820270251, 1527.753644441626, 5139.2177346757535), (4142.966820270251, 1527.753644441626, 5139.2177346757535), (4142.966820270251, 1527.753644441626, 5139.2177346757535), (4142.966820270251, 1527.753644441626, 5139.2177346757535), (4142.966820270251, 1527.753644441626, 5139.2177346757535), (4142.966820270251, 1527.753644441626, 5139.2177346757535), (4142.966820270251, 1527.753644441626, 5139.2177346757535), (4142.966820270251, 1527.753644441626, 5139.2177346757535), (4142.966820270251, 1527.753644441626, 5139.2177346757535), (4142.966820270251, 1527.753644441626, 5139.2177346757535), (4142.966820270251, 1527.753644441626, 5139.2177346757535)]\n"
     ]
    }
   ],
   "source": [
    "from datetime import datetime\n",
    "from datetime import timedelta\n",
    "\n",
    "\n",
    "def get_time_tuple(date):\n",
    "    assert isinstance(date, datetime)\n",
    "    return date.year, date.month, date.day, date.hour, date.minute, date.second + (date.microsecond / 1000000)\n",
    "    \n",
    "def follow_satellite(tle_line1, tle_line2, follow_positions=15, follow_delta=1):\n",
    "    satellite = twoline2rv(tle_line1, tle_line2, wgs84)\n",
    "    positions = []\n",
    "    now = datetime.now()\n",
    "    \n",
    "    for i in range(follow_positions):\n",
    "        time = now + timedelta(seconds=follow_delta)\n",
    "        time_formatted = get_time_tuple(time)\n",
    "        \n",
    "        position, velocity = satellite.propagate(*time_formatted)\n",
    "        positions.append(position)\n",
    "    \n",
    "    return positions\n",
    "    \n",
    "    \n",
    "positions = follow_satellite(line1, line2)\n",
    "print(positions)"
   ]
  },
  {
   "cell_type": "code",
   "execution_count": 38,
   "metadata": {},
   "outputs": [],
   "source": [
    "satellite?"
   ]
  },
  {
   "cell_type": "code",
   "execution_count": 39,
   "metadata": {},
   "outputs": [],
   "source": [
    "satellite.propagate??"
   ]
  },
  {
   "cell_type": "code",
   "execution_count": 40,
   "metadata": {
    "scrolled": true
   },
   "outputs": [
    {
     "data": {
      "text/plain": [
       "[(-27627.535464579036, -28499.25627971835, -2097.782105971713),\n",
       " (-27627.535464579036, -28499.25627971835, -2097.782105971713),\n",
       " (-27627.535464579036, -28499.25627971835, -2097.782105971713),\n",
       " (-27627.535464579036, -28499.25627971835, -2097.782105971713),\n",
       " (-27627.535464579036, -28499.25627971835, -2097.782105971713),\n",
       " (-27627.535464579036, -28499.25627971835, -2097.782105971713),\n",
       " (-27627.535464579036, -28499.25627971835, -2097.782105971713),\n",
       " (-27627.535464579036, -28499.25627971835, -2097.782105971713),\n",
       " (-27627.535464579036, -28499.25627971835, -2097.782105971713),\n",
       " (-27627.535464579036, -28499.25627971835, -2097.782105971713),\n",
       " (-27627.535464579036, -28499.25627971835, -2097.782105971713),\n",
       " (-27627.535464579036, -28499.25627971835, -2097.782105971713),\n",
       " (-27627.535464579036, -28499.25627971835, -2097.782105971713),\n",
       " (-27627.535464579036, -28499.25627971835, -2097.782105971713),\n",
       " (-27627.535464579036, -28499.25627971835, -2097.782105971713)]"
      ]
     },
     "execution_count": 40,
     "metadata": {},
     "output_type": "execute_result"
    }
   ],
   "source": [
    "tle_line1 = '1 43611U 18069A   18261.81300613 -.00000100  00000-0  00000+0 0  9990'\n",
    "tle_line2 = '2 43611   7.3424 250.3119 3905995 180.2128 142.8976  1.64666941   268'\n",
    "\n",
    "follow_satellite(tle_line1, tle_line2, follow_positions=15, follow_delta=21600)"
   ]
  },
  {
   "cell_type": "code",
   "execution_count": 41,
   "metadata": {},
   "outputs": [],
   "source": [
    "line1 = '1 25126U 97086A   18261.85942359 -.00000277 +00000-0 +00000-0 0  9996'\n",
    "line2 = '2 25126 008.5728 054.3013 0045152 334.7816 202.8974 01.00363315076774'"
   ]
  },
  {
   "cell_type": "code",
   "execution_count": 42,
   "metadata": {},
   "outputs": [
    {
     "data": {
      "text/plain": [
       "(20692.566584949534, -36556.99178248833, -197.10892576395997)"
      ]
     },
     "execution_count": 42,
     "metadata": {},
     "output_type": "execute_result"
    }
   ],
   "source": [
    "satellite = twoline2rv(line1, line2, wgs84)\n",
    "position, velocity = satellite.propagate(2000, 6, 29, 10, 50, 19)\n",
    "position"
   ]
  },
  {
   "cell_type": "code",
   "execution_count": 43,
   "metadata": {},
   "outputs": [
    {
     "name": "stdout",
     "output_type": "stream",
     "text": [
      "1764634811.9861052\n"
     ]
    }
   ],
   "source": [
    "s = 0\n",
    "for x in position:\n",
    "    s += x*x\n",
    "\n",
    "print(s)"
   ]
  },
  {
   "cell_type": "code",
   "execution_count": 44,
   "metadata": {
    "scrolled": true
   },
   "outputs": [
    {
     "data": {
      "text/plain": [
       "(-20924.71526369264, 36731.468450217915, 203.21701580077524)"
      ]
     },
     "execution_count": 44,
     "metadata": {},
     "output_type": "execute_result"
    }
   ],
   "source": [
    "satellite = twoline2rv(line1, line2, wgs84)\n",
    "position, velocity = satellite.propagate(2000, 6, 29, 22, 50, 19)\n",
    "position"
   ]
  },
  {
   "cell_type": "code",
   "execution_count": 45,
   "metadata": {},
   "outputs": [
    {
     "name": "stdout",
     "output_type": "stream",
     "text": [
      "42273.93736726539\n"
     ]
    }
   ],
   "source": [
    "from math import sqrt\n",
    "\n",
    "s = 0\n",
    "for x in position:\n",
    "    s += x*x\n",
    "s = sqrt(s)\n",
    "print(s)"
   ]
  }
 ],
 "metadata": {
  "kernelspec": {
   "display_name": "Python 3",
   "language": "python",
   "name": "python3"
  },
  "language_info": {
   "codemirror_mode": {
    "name": "ipython",
    "version": 3
   },
   "file_extension": ".py",
   "mimetype": "text/x-python",
   "name": "python",
   "nbconvert_exporter": "python",
   "pygments_lexer": "ipython3",
   "version": "3.6.4"
  }
 },
 "nbformat": 4,
 "nbformat_minor": 2
}
