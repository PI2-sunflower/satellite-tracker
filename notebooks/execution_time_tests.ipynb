{
 "cells": [
  {
   "cell_type": "code",
   "execution_count": 1,
   "metadata": {},
   "outputs": [],
   "source": [
    "%load_ext autoreload\n",
    "\n",
    "%autoreload 2"
   ]
  },
  {
   "cell_type": "code",
   "execution_count": 2,
   "metadata": {},
   "outputs": [],
   "source": [
    "from operator import attrgetter\n",
    "\n",
    "import matplotlib.pyplot as plt\n",
    "import numpy as np\n",
    "import pandas as pd\n",
    "from datetime import datetime, timezone, timedelta\n",
    "\n",
    "from tracker.satellite import Satellite\n",
    "from tracker.tle import TLE"
   ]
  },
  {
   "cell_type": "code",
   "execution_count": 6,
   "metadata": {},
   "outputs": [
    {
     "name": "stdout",
     "output_type": "stream",
     "text": [
      "Time for [1800] points = 351 ms ± 7.33 ms per loop (mean ± std. dev. of 7 runs, 1 loop each)\n",
      "Time for [3600] points = 746 ms ± 51 ms per loop (mean ± std. dev. of 7 runs, 1 loop each)\n",
      "Time for [7200] points = 1.52 s ± 65.7 ms per loop (mean ± std. dev. of 7 runs, 1 loop each)\n",
      "Time for [10800] points = 2.21 s ± 24.6 ms per loop (mean ± std. dev. of 7 runs, 1 loop each)\n",
      "Time for [14400] points = 2.97 s ± 24.9 ms per loop (mean ± std. dev. of 7 runs, 1 loop each)\n"
     ]
    }
   ],
   "source": [
    "def stress_test_time(n=1000):\n",
    "\n",
    "    iss_tle = '1 25544U 98067A   18298.51635846  .00001514  00000-0  30392-4 0  9998', '2 25544  51.6406  89.2479 0003892 336.3122 134.3245 15.53861856138782'\n",
    "\n",
    "    OBS_LAT = -15.989620\n",
    "    OBS_LON = -48.044411\n",
    "    OBS_ALT = 500\n",
    "\n",
    "    iss = Satellite(*iss_tle)\n",
    "\n",
    "    start_time = datetime.now(tz=timezone.utc)\n",
    "    azimuth = []\n",
    "    elevation = []\n",
    "    dates = []\n",
    "    \n",
    "    for i in range(n):\n",
    "        date = start_time + timedelta(seconds=i)\n",
    "        az, el = iss.get_observer_azimuth_elevation(OBS_LAT, OBS_LON, OBS_ALT, date=date)\n",
    "        \n",
    "        azimuth.append(az)\n",
    "        elevation.append(el)\n",
    "        dates.append(date)\n",
    "    \n",
    "    return azimuth, elevation, dates\n",
    "\n",
    "for i in [3600 // 2, 3600, 3600 * 2, 3600 * 3, 3600 * 4]:\n",
    "\n",
    "    print('Time for [{}] points = '.format(i), end='')\n",
    "    %timeit stress_test_time(i)"
   ]
  }
 ],
 "metadata": {
  "kernelspec": {
   "display_name": "Python 3",
   "language": "python",
   "name": "python3"
  },
  "language_info": {
   "codemirror_mode": {
    "name": "ipython",
    "version": 3
   },
   "file_extension": ".py",
   "mimetype": "text/x-python",
   "name": "python",
   "nbconvert_exporter": "python",
   "pygments_lexer": "ipython3",
   "version": "3.6.4"
  }
 },
 "nbformat": 4,
 "nbformat_minor": 2
}
