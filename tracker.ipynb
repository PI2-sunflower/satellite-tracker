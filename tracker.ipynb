{
 "cells": [
  {
   "cell_type": "code",
   "execution_count": 13,
   "metadata": {
    "scrolled": true
   },
   "outputs": [
    {
     "name": "stdout",
     "output_type": "stream",
     "text": [
      "0\n",
      "None\n",
      "(5576.056952400577, -3999.371134576461, -1521.9571594376116)\n",
      "(4.772627303379327, 5.119817120959581, 4.275553909172121)\n"
     ]
    }
   ],
   "source": [
    "from sgp4.earth_gravity import wgs72\n",
    "from sgp4.io import twoline2rv\n",
    "\n",
    "line1 = ('1 00005U 58002B   00179.78495062  '\n",
    "             '.00000023  00000-0  28098-4 0  4753')\n",
    "line2 = ('2 00005  34.2682 348.7242 1859667 '\n",
    "             '331.7664  19.3264 10.82419157413667')\n",
    "\n",
    "satellite = twoline2rv(line1, line2, wgs72)\n",
    "position, velocity = satellite.propagate(\n",
    "        2000, 6, 29, 12, 50, 19)\n",
    "\n",
    "print(satellite.error)    # nonzero on error\n",
    "\n",
    "print(satellite.error_message)\n",
    "\n",
    "print(position)\n",
    "\n",
    "print(velocity)"
   ]
  },
  {
   "cell_type": "code",
   "execution_count": 14,
   "metadata": {},
   "outputs": [
    {
     "name": "stdout",
     "output_type": "stream",
     "text": [
      "Object `sgp4` not found.\n"
     ]
    }
   ],
   "source": [
    "sgp4??"
   ]
  }
 ],
 "metadata": {
  "kernelspec": {
   "display_name": "Python 3",
   "language": "python",
   "name": "python3"
  },
  "language_info": {
   "codemirror_mode": {
    "name": "ipython",
    "version": 3
   },
   "file_extension": ".py",
   "mimetype": "text/x-python",
   "name": "python",
   "nbconvert_exporter": "python",
   "pygments_lexer": "ipython3",
   "version": "3.6.4"
  }
 },
 "nbformat": 4,
 "nbformat_minor": 2
}
