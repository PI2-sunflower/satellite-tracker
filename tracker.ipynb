{
 "cells": [
  {
   "cell_type": "code",
   "execution_count": 11,
   "metadata": {},
   "outputs": [
    {
     "name": "stdout",
     "output_type": "stream",
     "text": [
      "The autoreload extension is already loaded. To reload it, use:\n",
      "  %reload_ext autoreload\n"
     ]
    }
   ],
   "source": [
    "%load_ext autoreload\n",
    "\n",
    "%autoreload 2"
   ]
  },
  {
   "cell_type": "code",
   "execution_count": 12,
   "metadata": {
    "scrolled": true
   },
   "outputs": [
    {
     "name": "stdout",
     "output_type": "stream",
     "text": [
      "0\n",
      "None\n",
      "(-4163.750910520279, 875.2244158660227, 5339.075678578415)\n",
      "(-2.0779957376277705, -7.339458529912612, -0.41309603402365497)\n"
     ]
    }
   ],
   "source": [
    "from sgp4.earth_gravity import wgs84 as wgs\n",
    "from sgp4.io import twoline2rv\n",
    "\n",
    "from tle_getter import get_tle, SATELLITES_IDS\n",
    "\n",
    "line1, line2 = get_tle(SATELLITES_IDS['ISS'])\n",
    "\n",
    "satellite = twoline2rv(line1, line2, wgs)\n",
    "position, velocity = satellite.propagate(\n",
    "        2000, 6, 29, 12, 50, 19)\n",
    "\n",
    "print(satellite.error)    # nonzero on error\n",
    "\n",
    "print(satellite.error_message)\n",
    "\n",
    "print(position)\n",
    "\n",
    "print(velocity)"
   ]
  },
  {
   "cell_type": "code",
   "execution_count": 51,
   "metadata": {},
   "outputs": [
    {
     "name": "stdout",
     "output_type": "stream",
     "text": [
      "[(4610.714457560636, -3972.3722803029177, 2993.238557335237), (4610.714457560636, -3972.3722803029177, 2993.238557335237), (4610.714457560636, -3972.3722803029177, 2993.238557335237), (4610.714457560636, -3972.3722803029177, 2993.238557335237), (4610.714457560636, -3972.3722803029177, 2993.238557335237), (4610.714457560636, -3972.3722803029177, 2993.238557335237), (4610.714457560636, -3972.3722803029177, 2993.238557335237), (4610.714457560636, -3972.3722803029177, 2993.238557335237), (4610.714457560636, -3972.3722803029177, 2993.238557335237), (4610.714457560636, -3972.3722803029177, 2993.238557335237), (4610.714457560636, -3972.3722803029177, 2993.238557335237), (4610.714457560636, -3972.3722803029177, 2993.238557335237), (4610.714457560636, -3972.3722803029177, 2993.238557335237), (4610.714457560636, -3972.3722803029177, 2993.238557335237), (4610.714457560636, -3972.3722803029177, 2993.238557335237)]\n"
     ]
    }
   ],
   "source": [
    "from datetime import datetime\n",
    "from datetime import timedelta\n",
    "\n",
    "\n",
    "def get_time_tuple(date):\n",
    "    assert isinstance(date, datetime)\n",
    "    return date.year, date.month, date.day, date.hour, date.minute, date.second + (date.microsecond / 1000000)\n",
    "    \n",
    "def follow_satellite(tle_line1, tle_line2, follow_positions=15, follow_delta=1):\n",
    "    satellite = twoline2rv(tle_line1, tle_line2, wgs)\n",
    "    positions = []\n",
    "    now = datetime.now()\n",
    "    \n",
    "    for i in range(follow_positions):\n",
    "        time = now + timedelta(seconds=follow_delta)\n",
    "        time_formatted = get_time_tuple(time)\n",
    "        \n",
    "        position, velocity = satellite.propagate(*time_formatted)\n",
    "        positions.append(position)\n",
    "    \n",
    "    return positions\n",
    "    \n",
    "    \n",
    "positions = follow_satellite(line1, line2)\n",
    "print(positions)"
   ]
  },
  {
   "cell_type": "code",
   "execution_count": 53,
   "metadata": {},
   "outputs": [],
   "source": [
    "satellite?"
   ]
  },
  {
   "cell_type": "code",
   "execution_count": 19,
   "metadata": {},
   "outputs": [],
   "source": [
    "satellite.propagate??"
   ]
  }
 ],
 "metadata": {
  "kernelspec": {
   "display_name": "Python 3",
   "language": "python",
   "name": "python3"
  },
  "language_info": {
   "codemirror_mode": {
    "name": "ipython",
    "version": 3
   },
   "file_extension": ".py",
   "mimetype": "text/x-python",
   "name": "python",
   "nbconvert_exporter": "python",
   "pygments_lexer": "ipython3",
   "version": "3.6.4"
  }
 },
 "nbformat": 4,
 "nbformat_minor": 2
}
